{
 "cells": [
  {
   "cell_type": "markdown",
   "metadata": {},
   "source": [
    "# Python Basics:"
   ]
  },
  {
   "cell_type": "markdown",
   "metadata": {},
   "source": [
    "### Sample Programs:"
   ]
  },
  {
   "cell_type": "markdown",
   "metadata": {},
   "source": [
    "```\n",
    "Sample Program-1:\n",
    "    \n",
    "    Printing Hello World in Static Way\n",
    "```"
   ]
  },
  {
   "cell_type": "code",
   "execution_count": 1,
   "metadata": {},
   "outputs": [
    {
     "name": "stdout",
     "output_type": "stream",
     "text": [
      "Hello World!\n"
     ]
    }
   ],
   "source": [
    "print(\"Hello World!\")"
   ]
  },
  {
   "cell_type": "markdown",
   "metadata": {},
   "source": [
    "## Variables:"
   ]
  },
  {
   "cell_type": "markdown",
   "metadata": {},
   "source": [
    "```\n",
    "    - To Stores the given Value\n",
    "    - To Change the value\n",
    "    - To Access the value by name\n",
    "```"
   ]
  },
  {
   "cell_type": "code",
   "execution_count": 5,
   "metadata": {
    "scrolled": false
   },
   "outputs": [
    {
     "name": "stdout",
     "output_type": "stream",
     "text": [
      "12\n",
      "15\n"
     ]
    }
   ],
   "source": [
    "a=12\n",
    "b=15\n",
    "print(a)\n",
    "print(b)"
   ]
  },
  {
   "cell_type": "code",
   "execution_count": 9,
   "metadata": {},
   "outputs": [
    {
     "name": "stdout",
     "output_type": "stream",
     "text": [
      "13\n",
      "45.0\n",
      "raju\n"
     ]
    }
   ],
   "source": [
    "a,b,d=13,45.0,'raju'\n",
    "print(a)\n",
    "print(b)\n",
    "print(d)"
   ]
  },
  {
   "cell_type": "code",
   "execution_count": 12,
   "metadata": {},
   "outputs": [
    {
     "name": "stdout",
     "output_type": "stream",
     "text": [
      "35\n",
      "35\n",
      "35\n",
      "35\n",
      "35\n"
     ]
    }
   ],
   "source": [
    "a=35\n",
    "d=g=s=h=a\n",
    "print(a)\n",
    "print(d)\n",
    "print(g)\n",
    "print(s)\n",
    "print(h)"
   ]
  },
  {
   "cell_type": "code",
   "execution_count": 13,
   "metadata": {},
   "outputs": [
    {
     "name": "stdout",
     "output_type": "stream",
     "text": [
      "20\n"
     ]
    }
   ],
   "source": [
    "_sa = 20\n",
    "print(_sa)"
   ]
  },
  {
   "cell_type": "markdown",
   "metadata": {},
   "source": [
    "# Type():"
   ]
  },
  {
   "cell_type": "markdown",
   "metadata": {},
   "source": [
    "```\n",
    "    To define the data type that has been using\n",
    "```"
   ]
  },
  {
   "cell_type": "code",
   "execution_count": 14,
   "metadata": {},
   "outputs": [
    {
     "name": "stdout",
     "output_type": "stream",
     "text": [
      "12\n",
      "<class 'int'>\n",
      "23\n",
      "<class 'str'>\n",
      "kishore\n",
      "<class 'str'>\n",
      "45.0\n",
      "<class 'float'>\n"
     ]
    }
   ],
   "source": [
    "a,b,g,h=12,'23','kishore',45.00\n",
    "print(a)\n",
    "print(type(a))\n",
    "print(b)\n",
    "print(type(b))\n",
    "print(g)\n",
    "print(type(g))\n",
    "print(h)\n",
    "print(type(h))"
   ]
  },
  {
   "cell_type": "code",
   "execution_count": 17,
   "metadata": {},
   "outputs": [
    {
     "data": {
      "text/plain": [
       "str"
      ]
     },
     "execution_count": 17,
     "metadata": {},
     "output_type": "execute_result"
    }
   ],
   "source": [
    "h,g=34,'kiran'\n",
    "type(h)\n",
    "type(g)"
   ]
  },
  {
   "cell_type": "markdown",
   "metadata": {},
   "source": [
    "# Data Types:"
   ]
  },
  {
   "cell_type": "markdown",
   "metadata": {},
   "source": [
    "```\n",
    "    - int          -> 12\n",
    "    - float        -> 34.00099347637\n",
    "    - complex      -> 2+4j  => 2 -> real part , 4 -> imaginary part \n",
    "    - String       -> 'Kiran'\n",
    "```"
   ]
  },
  {
   "cell_type": "markdown",
   "metadata": {},
   "source": [
    "#### Conversions:"
   ]
  },
  {
   "cell_type": "code",
   "execution_count": 21,
   "metadata": {},
   "outputs": [
    {
     "name": "stdout",
     "output_type": "stream",
     "text": [
      "23\n",
      "<class 'str'>\n",
      "<class 'int'>\n"
     ]
    }
   ],
   "source": [
    "f='23'\n",
    "print(int(f))\n",
    "print(type(f))\n",
    "print(type(int(f)))"
   ]
  },
  {
   "cell_type": "code",
   "execution_count": 27,
   "metadata": {},
   "outputs": [
    {
     "name": "stdout",
     "output_type": "stream",
     "text": [
      "12\n",
      "<class 'int'>\n",
      "12\n",
      "<class 'str'>\n",
      "12.0\n"
     ]
    }
   ],
   "source": [
    "g=12\n",
    "print(g)\n",
    "print(type(g))\n",
    "print(str(g))\n",
    "print(type(str(g)))\n",
    "print(float(int(g)))"
   ]
  },
  {
   "cell_type": "code",
   "execution_count": 29,
   "metadata": {},
   "outputs": [
    {
     "name": "stdout",
     "output_type": "stream",
     "text": [
      "23.0\n",
      "<class 'float'>\n"
     ]
    }
   ],
   "source": [
    "g='23'\n",
    "print(float(g))\n",
    "print(type(float(g)))"
   ]
  },
  {
   "cell_type": "markdown",
   "metadata": {},
   "source": [
    "# Dynamic Type:\n",
    "#### Inserting the values to a variable in dynamic way"
   ]
  },
  {
   "cell_type": "code",
   "execution_count": 35,
   "metadata": {},
   "outputs": [
    {
     "name": "stdout",
     "output_type": "stream",
     "text": [
      "Enter a number: 34\n",
      "34\n",
      "<class 'str'>\n",
      "34.0\n"
     ]
    }
   ],
   "source": [
    "a=input(\"Enter a number: \")\n",
    "print(a)\n",
    "print(type(a))\n",
    "print(float(a))"
   ]
  },
  {
   "cell_type": "markdown",
   "metadata": {},
   "source": [
    "# Arithmetic operations in Dynamic Way:"
   ]
  },
  {
   "cell_type": "markdown",
   "metadata": {},
   "source": [
    "```\n",
    "Sample Program-1:\n",
    "\n",
    "        Input: 3 \n",
    "               6\n",
    "        Output:\n",
    "               Sum of 3 and 6 is : 9\n",
    "               Difference of 3 and 6 is: -3\n",
    "               Multiplication of 3 and 6 is: 18\n",
    "               Division of 3 and 6 is: 0.5\n",
    "               Modulus of 3 and 6 is: 3\n",
    "               Floor Division of 3 and 6 is: 0\n",
    "               3 Power of 6 is: 729\n",
    "```"
   ]
  },
  {
   "cell_type": "code",
   "execution_count": 3,
   "metadata": {},
   "outputs": [
    {
     "name": "stdout",
     "output_type": "stream",
     "text": [
      "3\n",
      "6\n",
      "Sum of 3 and 6 is: 9\n",
      "Difference of 3 and 6 is: -3\n",
      "Multiplication of 3 and 6 is:18\n",
      "Division of 3 and 6 is: 0.5\n",
      "Modulus of 3 and 6 is: 3\n",
      "Floor Division of 3 and 6 is: 0\n",
      "3 Power of 6 is: 729\n"
     ]
    }
   ],
   "source": [
    "a=int(input())\n",
    "b=int(input())\n",
    "print(\"Sum of {} and {} is: {}\".format(a,b,a+b))\n",
    "print(\"Difference of {} and {} is: {}\".format(a,b,a-b))\n",
    "print(\"Multiplication of {} and {} is:{}\".format(a,b,a*b))\n",
    "print(\"Division of {} and {} is: {}\".format(a,b,a/b))\n",
    "print(\"Modulus of {} and {} is: {}\".format(a,b,a%b))\n",
    "print(\"Floor Division of {} and {} is: {}\".format(a,b,a//b))\n",
    "print(\"{} Power of {} is: {}\".format(a,b,a**b))"
   ]
  },
  {
   "cell_type": "markdown",
   "metadata": {},
   "source": [
    "# Conditional Statements:"
   ]
  },
  {
   "cell_type": "markdown",
   "metadata": {},
   "source": [
    "```\n",
    "    - if -> single case output\n",
    "        syntax:      () -> optional\n",
    "               if(condition): \n",
    "                   //stmnts\n",
    "                   \n",
    "    - if-else -> 2 cases output\n",
    "        syntax:      \n",
    "               if(condition):\n",
    "                   //stmnt\n",
    "               else:\n",
    "                   //stmnt\n",
    "                   \n",
    "    - nested if -> 2 cases or more\n",
    "        syntax:\n",
    "               if(condition-1):\n",
    "                   if(condition-2):\n",
    "                       //stmnt\n",
    "                   else:\n",
    "                       //stmnt\n",
    "               else:\n",
    "                   //stmnt\n",
    "                   \n",
    "    - elif ladder -> 2 or more cases\n",
    "        syntax:\n",
    "            if(condition-1):\n",
    "                //stmnt-1\n",
    "            elif(condition-2):\n",
    "                //stmnt-2\n",
    "            elif(condition-3):\n",
    "                //stmnt-3\n",
    "            else:\n",
    "                //stmnt\n",
    "```"
   ]
  },
  {
   "cell_type": "markdown",
   "metadata": {},
   "source": [
    "```\n",
    "Sample Program-2:\n",
    "    \n",
    "    Input: 5\n",
    "    Output:\n",
    "    Input: 4\n",
    "    Output: Given number 4 is Even Number\n",
    "    Input: 2.4\n",
    "    Output:\n",
    "```"
   ]
  },
  {
   "cell_type": "code",
   "execution_count": 15,
   "metadata": {},
   "outputs": [
    {
     "name": "stdout",
     "output_type": "stream",
     "text": [
      "4\n",
      "Given number 4 is Even Number\n"
     ]
    }
   ],
   "source": [
    "n=int(input())\n",
    "if n%2==0:\n",
    "    print(\"Given number {} is Even Number\".format(n))"
   ]
  },
  {
   "cell_type": "markdown",
   "metadata": {},
   "source": [
    "```\n",
    "Sample Program-3:\n",
    "    \n",
    "    Input: 5\n",
    "    Output: Given number 5 is Odd Number\n",
    "    Input: 4\n",
    "    Output: Given number 4 is Even Number\n",
    "```"
   ]
  },
  {
   "cell_type": "code",
   "execution_count": 18,
   "metadata": {},
   "outputs": [
    {
     "name": "stdout",
     "output_type": "stream",
     "text": [
      "5\n",
      "Given number 5 is Odd Number\n"
     ]
    }
   ],
   "source": [
    "n=int(input())\n",
    "if n%2==0:\n",
    "    print(\"Given number {} is Even Number\".format(n))\n",
    "else:\n",
    "    print(\"Given number {} is Odd Number\".format(n))"
   ]
  },
  {
   "cell_type": "markdown",
   "metadata": {},
   "source": [
    "```\n",
    "Sample Program-4:\n",
    "    \n",
    "                    uid- 345 pwd- 123\n",
    "    Input:346 \n",
    "          124\n",
    "    Output: Given Uid 346 is not Valid\n",
    "    Input: 345 \n",
    "           1225\n",
    "    Output: Given Pwd 1225 is not Valid\n",
    "    Input: 345 \n",
    "           123\n",
    "    Output: Welcome Uid: 345\n",
    "```"
   ]
  },
  {
   "cell_type": "code",
   "execution_count": 26,
   "metadata": {},
   "outputs": [
    {
     "name": "stdout",
     "output_type": "stream",
     "text": [
      "123\n",
      "345\n",
      "Given uid 123 is not Valid\n"
     ]
    }
   ],
   "source": [
    "uid,pwd=int(input()),int(input())\n",
    "if uid==345:\n",
    "    if pwd==123:\n",
    "        print(\"Welcome uid: {}\".format(uid))\n",
    "    else:\n",
    "        print(\"Given Pwd {} is not valid\".format(pwd))\n",
    "else:\n",
    "    print(\"Given uid {} is not Valid\".format(uid))"
   ]
  },
  {
   "cell_type": "markdown",
   "metadata": {},
   "source": [
    "```\n",
    "Sample Program-5:\n",
    "    \n",
    "                    uid- 345 pwd- 123\n",
    "    Input:346 \n",
    "    Output: Given Uid 346 is not Valid\n",
    "    Input: 345 \n",
    "           1225 \n",
    "    Output: Given Pwd 1225 is not Valid\n",
    "    Input: 345 \n",
    "           123\n",
    "    Output: Welcome Uid: 345\n",
    "```"
   ]
  },
  {
   "cell_type": "markdown",
   "metadata": {},
   "source": [
    "```\n",
    "Sample Program-6:\n",
    "    User login\n",
    "```"
   ]
  },
  {
   "cell_type": "code",
   "execution_count": 31,
   "metadata": {},
   "outputs": [
    {
     "name": "stdout",
     "output_type": "stream",
     "text": [
      "345\n",
      "Welcome uid 345 please enter your pwd:\n",
      "123\n",
      "Welcome uid: 345\n"
     ]
    }
   ],
   "source": [
    "uid=int(input())\n",
    "if uid==345:\n",
    "    print(\"Welcome uid {} please enter your pwd:\".format(uid))\n",
    "    pwd=int(input())\n",
    "    if pwd==123:\n",
    "        print(\"Welcome uid: {}\".format(uid))\n",
    "    else:\n",
    "        print(\"Given pwd {} is not valid\".format(pwd))\n",
    "else:\n",
    "    print(\"Given uid {} is not valid\".format(uid))"
   ]
  },
  {
   "cell_type": "markdown",
   "metadata": {},
   "source": [
    "```\n",
    "    Sample Program-7:\n",
    "        Dynamic username and password login\n",
    "        ```"
   ]
  },
  {
   "cell_type": "code",
   "execution_count": 34,
   "metadata": {},
   "outputs": [
    {
     "name": "stdout",
     "output_type": "stream",
     "text": [
      "Enter your uid: 1234\n",
      "Enter your pwd: 34\n",
      "1234\n",
      "34\n",
      "Welcome uid: 1234\n"
     ]
    }
   ],
   "source": [
    "setu=int(input(\"Enter your uid: \"))\n",
    "setp=int(input(\"Enter your pwd: \"))\n",
    "\n",
    "uid=int(input())\n",
    "if uid==setu:\n",
    "    '''print(\"Welcome uid {} please enter your pwd:\".format(uid))'''\n",
    "    pwd=int(input())\n",
    "    if pwd==setp:\n",
    "        print(\"Welcome uid: {}\".format(uid))\n",
    "    else:\n",
    "        print(\"Given pwd {} is not valid\".format(pwd))\n",
    "else:\n",
    "    print(\"Given uid {} is not valid\".format(uid))\n"
   ]
  },
  {
   "cell_type": "markdown",
   "metadata": {},
   "source": [
    "```\n",
    "    Sample Program-8: Hackerrank Problem -> Arithmetic Operators\n",
    "```      "
   ]
  },
  {
   "cell_type": "code",
   "execution_count": 1,
   "metadata": {},
   "outputs": [
    {
     "name": "stdout",
     "output_type": "stream",
     "text": [
      "3\n",
      "5\n",
      "8\n",
      "-2\n",
      "15\n"
     ]
    }
   ],
   "source": [
    "a=int(input())\n",
    "b=int(input())\n",
    "print(\"{}\".format(a+b))\n",
    "print(\"{}\".format(a-b))\n",
    "print(\"{}\".format(a*b))"
   ]
  },
  {
   "cell_type": "markdown",
   "metadata": {},
   "source": [
    "```\n",
    "    Sample Program-9: Hackerrank Problem -> Python Division\n",
    "```  "
   ]
  },
  {
   "cell_type": "code",
   "execution_count": 2,
   "metadata": {},
   "outputs": [
    {
     "name": "stdout",
     "output_type": "stream",
     "text": [
      "4\n",
      "5\n",
      "0\n",
      "0.8\n"
     ]
    }
   ],
   "source": [
    "a=int(input())\n",
    "b=int(input())\n",
    "print(\"{}\".format(a//b))\n",
    "print(\"{}\".format(a/b))"
   ]
  },
  {
   "cell_type": "markdown",
   "metadata": {},
   "source": [
    "```\n",
    "    Sample Program-8: Hackerrank Problem -> Python if-else\n",
    "```  "
   ]
  },
  {
   "cell_type": "code",
   "execution_count": 3,
   "metadata": {},
   "outputs": [
    {
     "name": "stdout",
     "output_type": "stream",
     "text": [
      "4\n",
      "Not Weird\n"
     ]
    }
   ],
   "source": [
    "n=int(input())\n",
    "if n%2==1:\n",
    "    print(\"Weird\")\n",
    "else:\n",
    "    if (n>=2 and n<=5) or n>20:\n",
    "        print(\"Not Weird\")\n",
    "    else:\n",
    "        print(\"Weird\")\n",
    "\n"
   ]
  },
  {
   "cell_type": "markdown",
   "metadata": {},
   "source": [
    "# Loops or Iterations or Repition or Control Statements"
   ]
  },
  {
   "cell_type": "markdown",
   "metadata": {},
   "source": [
    "```\n",
    "    - For   -> Particular range\n",
    "    \n",
    "        Syntax: for iterationvariable in range(endingrange):\n",
    "                    //stmnt\n",
    "        \n",
    "    - While -> Infinity Loop\n",
    "    \n",
    "        Syntax: while (condition):\n",
    "                    //stmnt\n",
    "```"
   ]
  },
  {
   "cell_type": "markdown",
   "metadata": {},
   "source": [
    "```\n",
    "    Sample Program-9:\n",
    "        Input: 10\n",
    "        Output: 1 2 3 4 5 6 7 8 9 10\n",
    "        ```"
   ]
  },
  {
   "cell_type": "code",
   "execution_count": 14,
   "metadata": {},
   "outputs": [
    {
     "name": "stdout",
     "output_type": "stream",
     "text": [
      "20\n",
      "0 1 2 3 4 5 6 7 8 9 10 11 12 13 14 15 16 17 18 19 "
     ]
    }
   ],
   "source": [
    "n=int(input())\n",
    "for i in range(n):\n",
    "    print(i,end=\" \")"
   ]
  },
  {
   "cell_type": "code",
   "execution_count": 5,
   "metadata": {},
   "outputs": [
    {
     "name": "stdout",
     "output_type": "stream",
     "text": [
      "20\n",
      "1 2 3 4 5 6 7 8 9 10 11 12 13 14 15 16 17 18 19 20 "
     ]
    }
   ],
   "source": [
    "n=int(input())\n",
    "for i in range(1,n+1):\n",
    "    print(i,end=\" \")"
   ]
  },
  {
   "cell_type": "code",
   "execution_count": 8,
   "metadata": {},
   "outputs": [
    {
     "name": "stdout",
     "output_type": "stream",
     "text": [
      "10000\n",
      "10030\n",
      "10000 10001 10002 10003 10004 10005 10006 10007 10008 10009 10010 10011 10012 10013 10014 10015 10016 10017 10018 10019 10020 10021 10022 10023 10024 10025 10026 10027 10028 10029 10030 "
     ]
    }
   ],
   "source": [
    "n=int(input())\n",
    "m=int(input())\n",
    "for i in range(n,m+1):\n",
    "    print(i,end=\" \")"
   ]
  },
  {
   "cell_type": "code",
   "execution_count": 17,
   "metadata": {},
   "outputs": [
    {
     "name": "stdout",
     "output_type": "stream",
     "text": [
      "30\n",
      "20\n",
      "30 28 26 24 22 "
     ]
    }
   ],
   "source": [
    "n=int(input())\n",
    "m=int(input())\n",
    "for i in range(n,m+1,-2):\n",
    "    print(i,end=\" \")"
   ]
  },
  {
   "cell_type": "code",
   "execution_count": 40,
   "metadata": {},
   "outputs": [
    {
     "name": "stdout",
     "output_type": "stream",
     "text": [
      "3\n",
      "5\n",
      "3 x 1 = 3\n",
      "3 x 2 = 6\n",
      "3 x 3 = 9\n",
      "3 x 4 = 12\n",
      "3 x 5 = 15\n"
     ]
    }
   ],
   "source": [
    "n=int(input())\n",
    "m=int(input())\n",
    "for i in range(1,m+1):\n",
    "    print(\"{} x {} = {}\".format(n,i,n*i))"
   ]
  },
  {
   "cell_type": "code",
   "execution_count": 24,
   "metadata": {},
   "outputs": [
    {
     "name": "stdout",
     "output_type": "stream",
     "text": [
      "12836981368268769761267361273\n",
      "Given number is: 12836981368268769761267361273 and its reverse is: 37216376216796786286318963821\n"
     ]
    }
   ],
   "source": [
    "n=int(input())\n",
    "rev=0\n",
    "p=n\n",
    "while n>0:\n",
    "    rev=rev*10+n%10\n",
    "    n=n//10\n",
    "print(\"Given number is: {} and its reverse is: {}\"\n",
    "      .format(p,rev))"
   ]
  },
  {
   "cell_type": "code",
   "execution_count": 31,
   "metadata": {},
   "outputs": [
    {
     "name": "stdout",
     "output_type": "stream",
     "text": [
      "67125367129837127638123\n",
      "23\n",
      "Given number is: 67125367129837127638123 and its count is: 23\n"
     ]
    }
   ],
   "source": [
    "n=int(input())\n",
    "print(len(str(n)))\n",
    "c=0\n",
    "p=n\n",
    "while n>0:\n",
    "    c=c+1\n",
    "    n=n//10\n",
    "print(\"Given number is: {} and its count is: {}\"\n",
    "      .format(p,c))"
   ]
  },
  {
   "cell_type": "code",
   "execution_count": 34,
   "metadata": {},
   "outputs": [
    {
     "name": "stdout",
     "output_type": "stream",
     "text": [
      "263436735912403586378654626741763517263123\n",
      "Given number is 263436735912403586378654626741763517263123 and Even Count is: 20 and Odd Count is: 22\n"
     ]
    }
   ],
   "source": [
    "n=int(input())\n",
    "t=n\n",
    "evn=odd=0\n",
    "while n!=0:\n",
    "    k=n%10\n",
    "    if k%2==0:\n",
    "        evn=evn+1\n",
    "    else:\n",
    "        odd=odd+1\n",
    "    n=n//10\n",
    "print(\"Given number is {}\" \n",
    "      \" and Even Count is: {} and Odd Count is: {}\"\n",
    "     .format(t,evn,odd))"
   ]
  },
  {
   "cell_type": "code",
   "execution_count": null,
   "metadata": {},
   "outputs": [],
   "source": []
  }
 ],
 "metadata": {
  "kernelspec": {
   "display_name": "Python 3",
   "language": "python",
   "name": "python3"
  },
  "language_info": {
   "codemirror_mode": {
    "name": "ipython",
    "version": 3
   },
   "file_extension": ".py",
   "mimetype": "text/x-python",
   "name": "python",
   "nbconvert_exporter": "python",
   "pygments_lexer": "ipython3",
   "version": "3.7.3"
  }
 },
 "nbformat": 4,
 "nbformat_minor": 2
}
