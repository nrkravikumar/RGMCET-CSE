{
 "cells": [
  {
   "cell_type": "markdown",
   "metadata": {},
   "source": [
    "# Functions:\n",
    "            - To Perform a Specific task\n",
    "            - Reuseability of code\n",
    "            - To break the complex problem into sub modules to resolve the problem in easy way\n",
    "                   "
   ]
  },
  {
   "cell_type": "markdown",
   "metadata": {},
   "source": [
    "## User Defined Function\n",
    "\n",
    "        - Reading\n",
    "        - Printing\n",
    "        - Logic\n",
    "\n",
    "## Types:\n",
    "\n",
    "    - With return type and with arguments\n",
    "    - With return type and without arguments\n",
    "    - Without return type and with arguments\n",
    "    - Without return type and without arguments"
   ]
  },
  {
   "cell_type": "markdown",
   "metadata": {},
   "source": [
    "## With return type and with arguments\n",
    "        - Reading  -> Outer of function\n",
    "        - Printing -> Outer of function\n",
    "        - Logic    -> Inner of function\n",
    "    Syntax:\n",
    "        \n",
    "        return_type func_name(argumnets_list)\n",
    "            //stmnts\n",
    "            return return_value\n",
    "    "
   ]
  },
  {
   "cell_type": "code",
   "execution_count": 27,
   "metadata": {},
   "outputs": [
    {
     "name": "stdout",
     "output_type": "stream",
     "text": [
      "200\n",
      "Given number 200 fibonacci series sum is: 734544867157818093234908902110449296423349\n"
     ]
    }
   ],
   "source": [
    "def sumfib(m):\n",
    "    f1,f2,sum1=0,1,0\n",
    "    f3=0\n",
    "    for i in range(0,m-1):\n",
    "        f3=f1+f2\n",
    "        f1=f2\n",
    "        f2=f3\n",
    "        sum1=sum1+f3\n",
    "    return sum1\n",
    "\n",
    "n=int(input())\n",
    "print(\"Given number {} fibonacci series sum is: {}\"\n",
    "      .format(n,sumfib(n)))"
   ]
  },
  {
   "cell_type": "markdown",
   "metadata": {},
   "source": [
    "## With return type and without arguments\n",
    "        - Reading  -> Inner of function\n",
    "        - Printing -> Outer of function\n",
    "        - Logic    -> Inner of function\n",
    "    Syntax:\n",
    "        \n",
    "        return_type func_name()\n",
    "            //stmnts\n",
    "            return return_value\n",
    "    "
   ]
  },
  {
   "cell_type": "code",
   "execution_count": 31,
   "metadata": {},
   "outputs": [
    {
     "name": "stdout",
     "output_type": "stream",
     "text": [
      "121\n",
      "Number is Palindrome\n"
     ]
    }
   ],
   "source": [
    "def checkPalin():\n",
    "    n=int(input())\n",
    "    rev=0\n",
    "    p=n\n",
    "    while n!=0:\n",
    "        rev=rev*10+n%10\n",
    "        n=n//10\n",
    "    if rev==p:\n",
    "        return True\n",
    "    return False\n",
    "\n",
    "if checkPalin()==True:\n",
    "    print(\"Number is Palindrome\")\n",
    "else:\n",
    "    print(\"Number is Not Palindrome\")"
   ]
  },
  {
   "cell_type": "markdown",
   "metadata": {},
   "source": [
    "```\n",
    "It checks only for the even length values but not for the odd number length\n",
    "def checkPalin():\n",
    "    n=input()\n",
    "    rev=0\n",
    "    m=len(n)\n",
    "    n=int(n)\n",
    "    for i in range(0,m//2):\n",
    "        rev=rev*10+n%10\n",
    "        n=n//10\n",
    "    if rev==n:\n",
    "        return True\n",
    "    return False\n",
    "\n",
    "checkPalin()\n",
    "```"
   ]
  },
  {
   "cell_type": "markdown",
   "metadata": {},
   "source": [
    "## Without return type and with arguments\n",
    "        - Reading  -> Outer of function\n",
    "        - Printing -> Inner of function\n",
    "        - Logic    -> Inner of function\n",
    "    Syntax:\n",
    "        \n",
    "        return_type func_name(arguments_list)\n",
    "            //stmnts\n",
    "            return \n",
    "    "
   ]
  },
  {
   "cell_type": "code",
   "execution_count": 47,
   "metadata": {},
   "outputs": [
    {
     "name": "stdout",
     "output_type": "stream",
     "text": [
      "5\n",
      "5 10 15 20 25 "
     ]
    }
   ],
   "source": [
    "def Mul5(m):\n",
    "    k=m\n",
    "    for i in range(1,m+1):\n",
    "        print(\"{}\".format(k*i),end=\" \")\n",
    "    return\n",
    "\n",
    "n=int(input())\n",
    "Mul5(n)"
   ]
  },
  {
   "cell_type": "markdown",
   "metadata": {},
   "source": [
    "## Without return type and without arguments\n",
    "        - Reading  -> Inner of function\n",
    "        - Printing -> Inner of function\n",
    "        - Logic    -> Inner of function\n",
    "    Syntax:\n",
    "        \n",
    "        return_type func_name()\n",
    "            //stmnts\n",
    "            return \n",
    "    "
   ]
  },
  {
   "cell_type": "code",
   "execution_count": 52,
   "metadata": {},
   "outputs": [
    {
     "name": "stdout",
     "output_type": "stream",
     "text": [
      "2\n",
      "34\n",
      "2 power of 34 is: 17179869184\n"
     ]
    }
   ],
   "source": [
    "def powern():\n",
    "    n=int(input())\n",
    "    m=int(input())\n",
    "    print(\"{} power of {} is: {}\".format(n,m,n**m))\n",
    "    return\n",
    "\n",
    "powern()"
   ]
  },
  {
   "cell_type": "markdown",
   "metadata": {},
   "source": [
    "# Strings:"
   ]
  },
  {
   "cell_type": "code",
   "execution_count": 53,
   "metadata": {},
   "outputs": [
    {
     "name": "stdout",
     "output_type": "stream",
     "text": [
      "['__add__', '__class__', '__contains__', '__delattr__', '__dir__', '__doc__', '__eq__', '__format__', '__ge__', '__getattribute__', '__getitem__', '__getnewargs__', '__gt__', '__hash__', '__init__', '__init_subclass__', '__iter__', '__le__', '__len__', '__lt__', '__mod__', '__mul__', '__ne__', '__new__', '__reduce__', '__reduce_ex__', '__repr__', '__rmod__', '__rmul__', '__setattr__', '__sizeof__', '__str__', '__subclasshook__', 'capitalize', 'casefold', 'center', 'count', 'encode', 'endswith', 'expandtabs', 'find', 'format', 'format_map', 'index', 'isalnum', 'isalpha', 'isascii', 'isdecimal', 'isdigit', 'isidentifier', 'islower', 'isnumeric', 'isprintable', 'isspace', 'istitle', 'isupper', 'join', 'ljust', 'lower', 'lstrip', 'maketrans', 'partition', 'replace', 'rfind', 'rindex', 'rjust', 'rpartition', 'rsplit', 'rstrip', 'split', 'splitlines', 'startswith', 'strip', 'swapcase', 'title', 'translate', 'upper', 'zfill']\n"
     ]
    }
   ],
   "source": [
    "print(dir(str))"
   ]
  },
  {
   "cell_type": "code",
   "execution_count": 56,
   "metadata": {},
   "outputs": [
    {
     "data": {
      "text/plain": [
       "['hd', 'sgfh', ' sdfkgh sdk', 'fh']"
      ]
     },
     "execution_count": 56,
     "metadata": {},
     "output_type": "execute_result"
    }
   ],
   "source": [
    "s=\"hdjsgfhj sdfkgh sdkjfh\"\n",
    "s=s.split(\"j\")\n",
    "s"
   ]
  },
  {
   "cell_type": "code",
   "execution_count": 69,
   "metadata": {},
   "outputs": [
    {
     "name": "stdout",
     "output_type": "stream",
     "text": [
      "raju\n",
      "raju\n",
      "j\n",
      "ju\n",
      "ra\n",
      "ju\n",
      "ra\n",
      "ujar\n",
      "ja\n",
      "ju\n"
     ]
    }
   ],
   "source": [
    "s=\"raju\"\n",
    "print(s)\n",
    "print(s[:])\n",
    "print(s[2])\n",
    "print(s[2:])\n",
    "print(s[:2])\n",
    "print(s[-2:])\n",
    "print(s[:-2])\n",
    "print(s[3::-1])\n",
    "print(s[2:0:-1])\n",
    "print(s[len(s)//2:])"
   ]
  },
  {
   "cell_type": "markdown",
   "metadata": {},
   "source": [
    "```\n",
    "s[] -> all index\n",
    "s[a:b] -> starting pos and ending pos\n",
    "s[a:b:c] -> starting,ending and skipping\n",
    "```"
   ]
  },
  {
   "cell_type": "code",
   "execution_count": 88,
   "metadata": {},
   "outputs": [
    {
     "name": "stdout",
     "output_type": "stream",
     "text": [
      "kiran is good at teaching\n",
      "kiran is good at teaching\n",
      "KIRAN IS GOOD AT TEACHING\n",
      "Kiran Is Good At Teaching\n",
      "['Kiran', 'is', 'Good', 'at', 'Teaching']\n",
      "3\n",
      "25\n",
      "kIRAN IS gOOD AT tEACHING\n",
      "K#i#r#a#n# #i#s# #G#o#o#d# #a#t# #T#e#a#c#h#i#n#g\n",
      "1\n",
      "     Kiran is Good at Teaching     \n"
     ]
    }
   ],
   "source": [
    "s=\"Kiran is Good at Teaching\"\n",
    "print(s.casefold())\n",
    "print(s.lower())\n",
    "print(s.upper())\n",
    "print(s.title())\n",
    "print(s.split())\n",
    "print(s.count(\"a\"))\n",
    "print(len(s))\n",
    "print(s.swapcase())\n",
    "print(\"#\".join(s))\n",
    "print(s.index(\"i\"))\n",
    "print(s.center(35))"
   ]
  },
  {
   "cell_type": "code",
   "execution_count": 93,
   "metadata": {},
   "outputs": [
    {
     "name": "stdout",
     "output_type": "stream",
     "text": [
      "P y t h o n   l a n g u a g e \n",
      "\n",
      "P y t h o n   l a n g u a g e "
     ]
    }
   ],
   "source": [
    "s=\"Python language\"\n",
    "for i in range(len(s)):\n",
    "    print(s[i],end=\" \")\n",
    "print(\"\\n\")\n",
    "for i in s:\n",
    "    print(i,end=\" \")"
   ]
  },
  {
   "cell_type": "markdown",
   "metadata": {},
   "source": [
    "# Data Structures:\n",
    "\n",
    "    \n",
    "\n",
    "    - List        -> []\n",
    "            -> Changeable Data(Immutable)\n",
    "            -> Ordered Data\n",
    "            \n",
    "    - Tuple       -> ()\n",
    "            -> Unchangeable Data(Mutable)\n",
    "            -> Ordered Data\n",
    "            \n",
    "    - Set         -> {}\n",
    "            -> Changeable Data(Immutable)\n",
    "            -> Unordered Data\n",
    "            -> To remove the Duplicate Data elements\n",
    "            \n",
    "    - Dictionary  -> {} \n",
    "            -> Key: value\n",
    "            -> Changeable Data(Immutable)\n",
    "            -> Ordered Data"
   ]
  },
  {
   "cell_type": "markdown",
   "metadata": {},
   "source": [
    "```\n",
    "Arrays\n",
    "\n",
    "name id age\n",
    "raju 1  23\n",
    "somu 2  29        <-- Structure or Union\n",
    "```"
   ]
  },
  {
   "cell_type": "markdown",
   "metadata": {},
   "source": [
    "# List:"
   ]
  },
  {
   "cell_type": "code",
   "execution_count": 94,
   "metadata": {},
   "outputs": [
    {
     "name": "stdout",
     "output_type": "stream",
     "text": [
      "['__add__', '__class__', '__contains__', '__delattr__', '__delitem__', '__dir__', '__doc__', '__eq__', '__format__', '__ge__', '__getattribute__', '__getitem__', '__gt__', '__hash__', '__iadd__', '__imul__', '__init__', '__init_subclass__', '__iter__', '__le__', '__len__', '__lt__', '__mul__', '__ne__', '__new__', '__reduce__', '__reduce_ex__', '__repr__', '__reversed__', '__rmul__', '__setattr__', '__setitem__', '__sizeof__', '__str__', '__subclasshook__', 'append', 'clear', 'copy', 'count', 'extend', 'index', 'insert', 'pop', 'remove', 'reverse', 'sort']\n"
     ]
    }
   ],
   "source": [
    "print(dir(list))"
   ]
  },
  {
   "cell_type": "code",
   "execution_count": 100,
   "metadata": {},
   "outputs": [
    {
     "name": "stdout",
     "output_type": "stream",
     "text": [
      "1\n",
      "raju\n",
      "[4.9, 'raju', '2', 1]\n",
      "['2', 'raju', 4.9]\n"
     ]
    }
   ],
   "source": [
    "l=[1,'2','raju',4.90]\n",
    "l\n",
    "print(l[0])\n",
    "print(l[-2])\n",
    "print(l[-1::-1])\n",
    "print(l[1:])"
   ]
  },
  {
   "cell_type": "code",
   "execution_count": 111,
   "metadata": {},
   "outputs": [
    {
     "name": "stdout",
     "output_type": "stream",
     "text": [
      "4\n",
      "1\n",
      "3\n",
      "4\n",
      "5\n",
      "13\n"
     ]
    }
   ],
   "source": [
    "def sumlist(k):\n",
    "    l=[]\n",
    "    for i in range(1,k+1):\n",
    "        m=int(input())\n",
    "        l.append(m)\n",
    "    print(sum(l))\n",
    "    return\n",
    "\n",
    "n=input()\n",
    "sumlist(int(n))"
   ]
  },
  {
   "cell_type": "code",
   "execution_count": 118,
   "metadata": {},
   "outputs": [
    {
     "name": "stdout",
     "output_type": "stream",
     "text": [
      "2 4 90 122 0 234 10009\n",
      "[2, 4, 90, 122, 0, 234, 10009]\n",
      "[0, 2, 4, 90, 122, 234, 10009]\n",
      "[10009, 234, 122, 90, 4, 2, 0]\n",
      "[0, 2, 4, 90, 122, 234, 10009]\n"
     ]
    }
   ],
   "source": [
    "def crlt(n):\n",
    "    n=n.split()\n",
    "    l=[]\n",
    "    for i in n:\n",
    "        l.append(int(i))\n",
    "    print(l)\n",
    "    l.sort()\n",
    "    print(l)\n",
    "    l.sort(reverse=True)\n",
    "    print(l)\n",
    "    l.reverse()\n",
    "    print(l)\n",
    "    \n",
    "n=input()\n",
    "crlt(n)"
   ]
  },
  {
   "cell_type": "code",
   "execution_count": 136,
   "metadata": {},
   "outputs": [
    {
     "name": "stdout",
     "output_type": "stream",
     "text": [
      "[768, 234, 45, 34, 2, 2, 2, 0]\n",
      "4\n",
      "3\n",
      "[234, 768, 234, 45, 34, 2, 2, 2, 0]\n",
      "[345, 240, 450, 234, 768, 234, 45, 34, 2, 2, 2, 0]\n",
      "[234, 768, 234, 45, 34, 2, 2, 2, 0]\n"
     ]
    }
   ],
   "source": [
    "l=[234,34,2,45,2,2,768,0]\n",
    "l1=[345,240,450]\n",
    "l.sort()\n",
    "#l.sort(reverse=True)\n",
    "l.reverse()\n",
    "print(l)\n",
    "print(l.index(2))\n",
    "print(l.count(2))\n",
    "l.insert(0,234)\n",
    "print(l)\n",
    "l1.extend(l)\n",
    "print(l1)\n",
    "l1.clear()\n",
    "print(l)"
   ]
  },
  {
   "cell_type": "code",
   "execution_count": 18,
   "metadata": {},
   "outputs": [
    {
     "name": "stdout",
     "output_type": "stream",
     "text": [
      "[2, 4, 5, 6, 7, 8, 'raju']\n",
      "[2, 4, 5, 6, 8, 'raju']\n",
      "[2, 4, 5, 6, 8]\n"
     ]
    }
   ],
   "source": [
    "l=[2,4,5,6,7,8,'raju','yes']\n",
    "l.pop()\n",
    "print(l)\n",
    "l.remove(7)\n",
    "print(l)\n",
    "l.remove('raju')\n",
    "print(l)"
   ]
  },
  {
   "cell_type": "code",
   "execution_count": 4,
   "metadata": {},
   "outputs": [
    {
     "name": "stdout",
     "output_type": "stream",
     "text": [
      "1239619237623128936716536123\n",
      "Given number is : 1239619237623128936716536123\n",
      "Even numbers is: [2, 6, 6, 6, 8, 2, 2, 6, 2, 6, 2]\n",
      "Even numbers count is: 11\n",
      "Odd numbers is: [3, 1, 3, 5, 1, 7, 3, 9, 1, 3, 7, 3, 9, 1, 9, 3, 1]\n",
      "Odd numbers count is: 17\n"
     ]
    }
   ],
   "source": [
    "def Evnodd(n):\n",
    "    evn=[]\n",
    "    od=[]\n",
    "    m=n\n",
    "    while n!=0:\n",
    "        k=n%10\n",
    "        if k%2==0:\n",
    "            evn.append(k)\n",
    "        else:\n",
    "            od.append(k)\n",
    "        n=n//10\n",
    "    print(\"Given number is : {}\".format(m))\n",
    "    print(\"Even numbers is: {}\".format(evn))\n",
    "    print(\"Even numbers count is: {}\".format(len(evn)))\n",
    "    print(\"Odd numbers is: {}\".format(od))\n",
    "    print(\"Odd numbers count is: {}\".format(len(od)))\n",
    "    return \n",
    "\n",
    "n=int(input())\n",
    "Evnodd(n)"
   ]
  },
  {
   "cell_type": "markdown",
   "metadata": {},
   "source": [
    "# Tuple - ()"
   ]
  },
  {
   "cell_type": "code",
   "execution_count": 5,
   "metadata": {},
   "outputs": [
    {
     "name": "stdout",
     "output_type": "stream",
     "text": [
      "['__add__', '__class__', '__contains__', '__delattr__', '__dir__', '__doc__', '__eq__', '__format__', '__ge__', '__getattribute__', '__getitem__', '__getnewargs__', '__gt__', '__hash__', '__init__', '__init_subclass__', '__iter__', '__le__', '__len__', '__lt__', '__mul__', '__ne__', '__new__', '__reduce__', '__reduce_ex__', '__repr__', '__rmul__', '__setattr__', '__sizeof__', '__str__', '__subclasshook__', 'count', 'index']\n"
     ]
    }
   ],
   "source": [
    "print(dir(tuple))"
   ]
  },
  {
   "cell_type": "code",
   "execution_count": 10,
   "metadata": {},
   "outputs": [
    {
     "name": "stdout",
     "output_type": "stream",
     "text": [
      "(1, '2', 'Raju', 5.9099, 2, 2, 2, 2)\n",
      "<class 'tuple'>\n",
      "1\n",
      "4\n",
      "1\n"
     ]
    }
   ],
   "source": [
    "t=(1,'2','Raju',5.90990,2,2,2,2)\n",
    "print(t)\n",
    "print(type(t))\n",
    "print(t.index('2'))\n",
    "print(t.count(2))\n",
    "print(t.count('2'))"
   ]
  },
  {
   "cell_type": "code",
   "execution_count": 14,
   "metadata": {},
   "outputs": [
    {
     "name": "stdout",
     "output_type": "stream",
     "text": [
      "(1, 4, 5, 2, 'rajesh', '3.567', '3', 45.9087)\n",
      "(1, 4, 5, 2, 'rajesh', '3.567', '3', 45.9087)\n",
      "45.9087\n",
      "(4, 5, 2, 'rajesh', '3.567', '3')\n",
      "(45.9087, '3', '3.567', 'rajesh', 2, 5, 4, 1)\n",
      "[1, 4, 5, 2, 'rajesh', '3.567', '3', 45.9087]\n"
     ]
    }
   ],
   "source": [
    "t=(1,4,5,2,'rajesh','3.567','3',45.9087)\n",
    "print(t)\n",
    "print(t[:])\n",
    "print(t[-1])\n",
    "print(t[1:-1])\n",
    "print(t[-1::-1])\n",
    "print(list(t))"
   ]
  },
  {
   "cell_type": "markdown",
   "metadata": {},
   "source": [
    "# Set - {}"
   ]
  },
  {
   "cell_type": "code",
   "execution_count": 15,
   "metadata": {},
   "outputs": [
    {
     "name": "stdout",
     "output_type": "stream",
     "text": [
      "['__and__', '__class__', '__contains__', '__delattr__', '__dir__', '__doc__', '__eq__', '__format__', '__ge__', '__getattribute__', '__gt__', '__hash__', '__iand__', '__init__', '__init_subclass__', '__ior__', '__isub__', '__iter__', '__ixor__', '__le__', '__len__', '__lt__', '__ne__', '__new__', '__or__', '__rand__', '__reduce__', '__reduce_ex__', '__repr__', '__ror__', '__rsub__', '__rxor__', '__setattr__', '__sizeof__', '__str__', '__sub__', '__subclasshook__', '__xor__', 'add', 'clear', 'copy', 'difference', 'difference_update', 'discard', 'intersection', 'intersection_update', 'isdisjoint', 'issubset', 'issuperset', 'pop', 'remove', 'symmetric_difference', 'symmetric_difference_update', 'union', 'update']\n"
     ]
    }
   ],
   "source": [
    "print(dir(set))"
   ]
  },
  {
   "cell_type": "code",
   "execution_count": 27,
   "metadata": {},
   "outputs": [
    {
     "name": "stdout",
     "output_type": "stream",
     "text": [
      "{1, 2, 3, 6, 8, 9, 10}\n",
      "(1, 2, 3, 6, 8, 9, 10)\n",
      "[1, 2, 3, 6, 8, 9, 10]\n",
      "{1, 2, 3, 6, 8, 9, 10, 45}\n",
      "{2, 3, 6, 8, 9, 10, 45}\n",
      "{3, 6, 8, 9, 10, 45}\n"
     ]
    }
   ],
   "source": [
    "s={3,6,2,1,8,9,10,2,2,2,2,2,2,10,10,10}\n",
    "print(s)\n",
    "print(tuple(s))\n",
    "print(list(s))\n",
    "s.add(45)\n",
    "print(s)\n",
    "s.pop()\n",
    "print(s)\n",
    "s.remove(2)\n",
    "print(s)"
   ]
  },
  {
   "cell_type": "code",
   "execution_count": 33,
   "metadata": {},
   "outputs": [
    {
     "name": "stdout",
     "output_type": "stream",
     "text": [
      "{3, 4, 5, 7, 8, 75, 45, 23}\n",
      "{3, 4, 5}\n",
      "{8, 7}\n",
      "{75, 45, 23}\n",
      "{3, 4, 5, 7, 8}\n",
      "{3, 4, 5, 75, 45, 23}\n"
     ]
    }
   ],
   "source": [
    "s={3,4,5,7,8}\n",
    "s1={23,3,4,5,45,75}\n",
    "print(s.union(s1))\n",
    "print(s1.intersection(s))\n",
    "print(s.difference(s1))\n",
    "print(s1.difference(s))\n",
    "print(s)\n",
    "print(s1)"
   ]
  },
  {
   "cell_type": "markdown",
   "metadata": {},
   "source": [
    "```\n",
    "Input: 1 5 4 1 5 5 4 4 5 5 5 5\n",
    "Output:\n",
    "    1 - 2\n",
    "    5 - 7\n",
    "    4 - 3\n",
    "    ```"
   ]
  },
  {
   "cell_type": "code",
   "execution_count": 40,
   "metadata": {},
   "outputs": [
    {
     "name": "stdout",
     "output_type": "stream",
     "text": [
      "100 200 120 320 245 190000 19000 34 23\n",
      "['100', '200', '120', '320', '245', '190000', '19000', '34', '23']\n",
      "[100, 200, 120, 320, 245, 190000, 19000, 34, 23]\n",
      "320 - 1\n",
      "34 - 1\n",
      "100 - 1\n",
      "200 - 1\n",
      "19000 - 1\n",
      "190000 - 1\n",
      "245 - 1\n",
      "23 - 1\n",
      "120 - 1\n"
     ]
    }
   ],
   "source": [
    "n=input()\n",
    "n=n.split()\n",
    "print(n)\n",
    "l=[]\n",
    "for i in n:\n",
    "    l.append(int(i))\n",
    "print(l)\n",
    "for i in set(l):\n",
    "    print(i,\"-\",l.count(i))"
   ]
  },
  {
   "cell_type": "markdown",
   "metadata": {},
   "source": [
    "# Dictionary - {}"
   ]
  },
  {
   "cell_type": "code",
   "execution_count": 41,
   "metadata": {},
   "outputs": [
    {
     "name": "stdout",
     "output_type": "stream",
     "text": [
      "['__class__', '__contains__', '__delattr__', '__delitem__', '__dir__', '__doc__', '__eq__', '__format__', '__ge__', '__getattribute__', '__getitem__', '__gt__', '__hash__', '__init__', '__init_subclass__', '__iter__', '__le__', '__len__', '__lt__', '__ne__', '__new__', '__reduce__', '__reduce_ex__', '__repr__', '__setattr__', '__setitem__', '__sizeof__', '__str__', '__subclasshook__', 'clear', 'copy', 'fromkeys', 'get', 'items', 'keys', 'pop', 'popitem', 'setdefault', 'update', 'values']\n"
     ]
    }
   ],
   "source": [
    "print(dir(dict))"
   ]
  },
  {
   "cell_type": "code",
   "execution_count": 60,
   "metadata": {},
   "outputs": [
    {
     "name": "stdout",
     "output_type": "stream",
     "text": [
      "{1: 23, 34: 45, 5: 'Raju', '5': 56.0}\n",
      "Raju\n",
      "56.0\n",
      "dict_keys([1, 34, 5, '5'])\n",
      "dict_items([(1, 23), (34, 45), (5, 'Raju'), ('5', 56.0)])\n",
      "None\n",
      "{1: None, 34: None, 5: None, '5': None}\n",
      "dict_values(['Kiran', 45, 'Raju', 56.0])\n",
      "56.0\n",
      "56.0\n",
      "{1: 'Kiran', 34: 45, 5: 'Raju'}\n"
     ]
    }
   ],
   "source": [
    "d={1:23,34:45,5:'Raju','5':56.00}\n",
    "print(d)\n",
    "print(d[5])\n",
    "print(d['5'])\n",
    "print(d.keys())\n",
    "print(d.items())\n",
    "print(d.update({1:'Kiran'}))\n",
    "print(d.fromkeys(d.keys()))\n",
    "print(d.values())\n",
    "print(d.get('5'))\n",
    "print(d.pop('5'))\n",
    "print(d)"
   ]
  },
  {
   "cell_type": "code",
   "execution_count": 61,
   "metadata": {},
   "outputs": [
    {
     "name": "stdout",
     "output_type": "stream",
     "text": [
      "1 2 3 4 5 61 2 3 1\n",
      "{1: 2, 2: 2, 3: 2, 4: 1, 5: 1, 61: 1}\n"
     ]
    }
   ],
   "source": [
    "n=input().split()\n",
    "l=[]\n",
    "d={}\n",
    "for i in n:\n",
    "    l.append(int(i))\n",
    "for i in set(l):\n",
    "    d[i]=l.count(i)\n",
    "print(d)    "
   ]
  },
  {
   "cell_type": "markdown",
   "metadata": {},
   "source": [
    "# Packages and Modules:"
   ]
  },
  {
   "cell_type": "code",
   "execution_count": null,
   "metadata": {},
   "outputs": [],
   "source": []
  }
 ],
 "metadata": {
  "kernelspec": {
   "display_name": "Python 3",
   "language": "python",
   "name": "python3"
  },
  "language_info": {
   "codemirror_mode": {
    "name": "ipython",
    "version": 3
   },
   "file_extension": ".py",
   "mimetype": "text/x-python",
   "name": "python",
   "nbconvert_exporter": "python",
   "pygments_lexer": "ipython3",
   "version": "3.7.3"
  }
 },
 "nbformat": 4,
 "nbformat_minor": 2
}
